{
 "cells": [
  {
   "cell_type": "markdown",
   "id": "73b90c6d-5e6b-4742-afa5-d11c0118f545",
   "metadata": {},
   "source": [
    "## FastAPI 실행 및 사용법\n",
    "- api spec 조회   \n",
    "  -  Swagger: http://localhost:8000/docs\n",
    "  -  ReDoc: http://localhost:8000/redoc\n",
    "<br/><br/>\n",
    "- 실행(**포트 포워딩 8000번 추가**)\n",
    "  \n",
    "  ```bash\n",
    "  # gcp 인스턴스 > hortonworks 도커 컨테이너 기준\n",
    "  cd /api-server   \n",
    "\n",
    "  # 개발 시\n",
    "  python3.6 -m uvicorn main:app --reload\n",
    "\n",
    "  # 배포 시\n",
    "   nohup python3.6 -u -m gunicorn -w 1 -k uvicorn.workers.UvicornWorker main:app > app.log 2>&1 &\n",
    "  ```"
   ]
  },
  {
   "cell_type": "code",
   "execution_count": 8,
   "id": "c6b11789-f4f5-477f-8f1b-e5f70aba0628",
   "metadata": {},
   "outputs": [
    {
     "data": {
      "text/plain": [
       "[]"
      ]
     },
     "execution_count": 8,
     "metadata": {},
     "output_type": "execute_result"
    }
   ],
   "source": [
    "import requests\n",
    "\n",
    "yearmonth = '202411'\n",
    "url = f'http://127.0.0.1:8000/search/{yearmonth}'\n",
    "\n",
    "response = requests.get(url)\n",
    "result = response.json()\n",
    "articles = result.get('articles')\n",
    "articles"
   ]
  },
  {
   "cell_type": "code",
   "execution_count": null,
   "id": "43a85f60-a5f7-4a45-8f8a-41f87a8dfc9d",
   "metadata": {},
   "outputs": [],
   "source": []
  }
 ],
 "metadata": {
  "kernelspec": {
   "display_name": "Python 3 (ipykernel)",
   "language": "python",
   "name": "python3"
  },
  "language_info": {
   "codemirror_mode": {
    "name": "ipython",
    "version": 3
   },
   "file_extension": ".py",
   "mimetype": "text/x-python",
   "name": "python",
   "nbconvert_exporter": "python",
   "pygments_lexer": "ipython3",
   "version": "3.12.2"
  }
 },
 "nbformat": 4,
 "nbformat_minor": 5
}
